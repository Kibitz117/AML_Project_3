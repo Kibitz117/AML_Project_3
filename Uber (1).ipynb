{
 "cells": [
  {
   "cell_type": "markdown",
   "metadata": {},
   "source": [
    "# Uber Dataset"
   ]
  },
  {
   "cell_type": "markdown",
   "metadata": {},
   "source": [
    "## Exploratory Data Analysis"
   ]
  },
  {
   "cell_type": "code",
   "execution_count": 1,
   "metadata": {},
   "outputs": [],
   "source": [
    "# Import Libraries\n",
    "from mpl_toolkits.mplot3d import Axes3D\n",
    "import sklearn\n",
    "from sklearn.preprocessing import StandardScaler, OrdinalEncoder, OneHotEncoder, LabelEncoder, StandardScaler\n",
    "import numpy as np \n",
    "import os \n",
    "import pandas as pd \n",
    "import matplotlib.pyplot as plt\n",
    "import missingno as msnum \n",
    "import seaborn as sns\n",
    "# from sklearn.preprocessing import OrdinalEncoder\n",
    "from sklearn.linear_model import LinearRegression, SGDClassifier\n",
    "from sklearn.metrics import confusion_matrix, classification_report, accuracy_score\n",
    "# from sklearn.metrics import classification_report\n",
    "from sklearn.ensemble import RandomForestClassifier, BaggingClassifier\n",
    "from sklearn.neighbors import KNeighborsClassifier\n",
    "from sklearn.model_selection import StratifiedKFold, GridSearchCV\n",
    "import tensorflow as tf\n",
    "from sklearn.compose import ColumnTransformer\n",
    "# from sklearn.preprocessing import OneHotEncoder\n",
    "from keras.wrappers.scikit_learn import KerasClassifier\n",
    "# from sklearn.model_selection import GridSearchCV\n",
    "# from sklearn.preprocessing import LabelEncoder\n",
    "# from sklearn.preprocessing import StandardScaler\n",
    "# from sklearn import model_selection\n",
    "# from sklearn.ensemble import BaggingClassifier\n",
    "from sklearn.tree import DecisionTreeClassifier\n",
    "# from sklearn.linear_model import SGDClassifier\n",
    "import time\n",
    "# from sklearn.metrics import accuracy_score\n",
    "from sklearn.model_selection import train_test_split\n",
    "from sklearn import linear_model"
   ]
  },
  {
   "cell_type": "markdown",
   "metadata": {},
   "source": [
    "### Data Dictionary\n",
    "Our target variable is `fare_amount`<br/>\n",
    "* key - a unique identifier for each trip\n",
    "* fare_amount - the cost of each trip in usd\n",
    "* pickup_datetime - date and time when the meter was engaged\n",
    "* passenger_count - the number of passengers in the vehicle (driver entered value)\n",
    "* pickup_longitude - the longitude where the meter was engaged\n",
    "* pickup_latitude - the latitude where the meter was engaged\n",
    "* dropoff_longitude - the longitude where the meter was disengaged\n",
    "* dropoff_latitude - the latitude where the meter was disengaged"
   ]
  },
  {
   "cell_type": "markdown",
   "metadata": {},
   "source": [
    "### Dealing With Missing Values"
   ]
  },
  {
   "cell_type": "markdown",
   "metadata": {},
   "source": [
    "First thing we should do is deal with the missing values."
   ]
  },
  {
   "cell_type": "code",
   "execution_count": 2,
   "metadata": {},
   "outputs": [
    {
     "name": "stdout",
     "output_type": "stream",
     "text": [
      "<class 'pandas.core.frame.DataFrame'>\n",
      "RangeIndex: 200000 entries, 0 to 199999\n",
      "Data columns (total 9 columns):\n",
      " #   Column             Non-Null Count   Dtype  \n",
      "---  ------             --------------   -----  \n",
      " 0   Unnamed: 0         200000 non-null  int64  \n",
      " 1   key                200000 non-null  object \n",
      " 2   fare_amount        200000 non-null  float64\n",
      " 3   pickup_datetime    200000 non-null  object \n",
      " 4   pickup_longitude   200000 non-null  float64\n",
      " 5   pickup_latitude    200000 non-null  float64\n",
      " 6   dropoff_longitude  199999 non-null  float64\n",
      " 7   dropoff_latitude   199999 non-null  float64\n",
      " 8   passenger_count    200000 non-null  int64  \n",
      "dtypes: float64(5), int64(2), object(2)\n",
      "memory usage: 13.7+ MB\n"
     ]
    }
   ],
   "source": [
    "uber = pd.read_csv('uber.csv')\n",
    "uber.info()"
   ]
  },
  {
   "cell_type": "markdown",
   "metadata": {},
   "source": [
    "Luckily, only one row has missing values, so we can safely remove that."
   ]
  },
  {
   "cell_type": "code",
   "execution_count": 3,
   "metadata": {},
   "outputs": [],
   "source": [
    "uber = uber.dropna()"
   ]
  },
  {
   "cell_type": "markdown",
   "metadata": {},
   "source": [
    "### Cleaning Up the Data"
   ]
  },
  {
   "cell_type": "markdown",
   "metadata": {},
   "source": [
    "Let's take a look at the dataset and check anything that seems off."
   ]
  },
  {
   "cell_type": "code",
   "execution_count": 4,
   "metadata": {},
   "outputs": [
    {
     "data": {
      "text/html": [
       "<div>\n",
       "<style scoped>\n",
       "    .dataframe tbody tr th:only-of-type {\n",
       "        vertical-align: middle;\n",
       "    }\n",
       "\n",
       "    .dataframe tbody tr th {\n",
       "        vertical-align: top;\n",
       "    }\n",
       "\n",
       "    .dataframe thead th {\n",
       "        text-align: right;\n",
       "    }\n",
       "</style>\n",
       "<table border=\"1\" class=\"dataframe\">\n",
       "  <thead>\n",
       "    <tr style=\"text-align: right;\">\n",
       "      <th></th>\n",
       "      <th>Unnamed: 0</th>\n",
       "      <th>fare_amount</th>\n",
       "      <th>pickup_longitude</th>\n",
       "      <th>pickup_latitude</th>\n",
       "      <th>dropoff_longitude</th>\n",
       "      <th>dropoff_latitude</th>\n",
       "      <th>passenger_count</th>\n",
       "    </tr>\n",
       "  </thead>\n",
       "  <tbody>\n",
       "    <tr>\n",
       "      <th>count</th>\n",
       "      <td>1.999990e+05</td>\n",
       "      <td>199999.000000</td>\n",
       "      <td>199999.000000</td>\n",
       "      <td>199999.000000</td>\n",
       "      <td>199999.000000</td>\n",
       "      <td>199999.000000</td>\n",
       "      <td>199999.000000</td>\n",
       "    </tr>\n",
       "    <tr>\n",
       "      <th>mean</th>\n",
       "      <td>2.771248e+07</td>\n",
       "      <td>11.359892</td>\n",
       "      <td>-72.527631</td>\n",
       "      <td>39.935881</td>\n",
       "      <td>-72.525292</td>\n",
       "      <td>39.923890</td>\n",
       "      <td>1.684543</td>\n",
       "    </tr>\n",
       "    <tr>\n",
       "      <th>std</th>\n",
       "      <td>1.601386e+07</td>\n",
       "      <td>9.901760</td>\n",
       "      <td>11.437815</td>\n",
       "      <td>7.720558</td>\n",
       "      <td>13.117408</td>\n",
       "      <td>6.794829</td>\n",
       "      <td>1.385995</td>\n",
       "    </tr>\n",
       "    <tr>\n",
       "      <th>min</th>\n",
       "      <td>1.000000e+00</td>\n",
       "      <td>-52.000000</td>\n",
       "      <td>-1340.648410</td>\n",
       "      <td>-74.015515</td>\n",
       "      <td>-3356.666300</td>\n",
       "      <td>-881.985513</td>\n",
       "      <td>0.000000</td>\n",
       "    </tr>\n",
       "    <tr>\n",
       "      <th>25%</th>\n",
       "      <td>1.382534e+07</td>\n",
       "      <td>6.000000</td>\n",
       "      <td>-73.992065</td>\n",
       "      <td>40.734796</td>\n",
       "      <td>-73.991407</td>\n",
       "      <td>40.733823</td>\n",
       "      <td>1.000000</td>\n",
       "    </tr>\n",
       "    <tr>\n",
       "      <th>50%</th>\n",
       "      <td>2.774524e+07</td>\n",
       "      <td>8.500000</td>\n",
       "      <td>-73.981823</td>\n",
       "      <td>40.752592</td>\n",
       "      <td>-73.980093</td>\n",
       "      <td>40.753042</td>\n",
       "      <td>1.000000</td>\n",
       "    </tr>\n",
       "    <tr>\n",
       "      <th>75%</th>\n",
       "      <td>4.155535e+07</td>\n",
       "      <td>12.500000</td>\n",
       "      <td>-73.967154</td>\n",
       "      <td>40.767158</td>\n",
       "      <td>-73.963658</td>\n",
       "      <td>40.768001</td>\n",
       "      <td>2.000000</td>\n",
       "    </tr>\n",
       "    <tr>\n",
       "      <th>max</th>\n",
       "      <td>5.542357e+07</td>\n",
       "      <td>499.000000</td>\n",
       "      <td>57.418457</td>\n",
       "      <td>1644.421482</td>\n",
       "      <td>1153.572603</td>\n",
       "      <td>872.697628</td>\n",
       "      <td>208.000000</td>\n",
       "    </tr>\n",
       "  </tbody>\n",
       "</table>\n",
       "</div>"
      ],
      "text/plain": [
       "         Unnamed: 0    fare_amount  pickup_longitude  pickup_latitude  \\\n",
       "count  1.999990e+05  199999.000000     199999.000000    199999.000000   \n",
       "mean   2.771248e+07      11.359892        -72.527631        39.935881   \n",
       "std    1.601386e+07       9.901760         11.437815         7.720558   \n",
       "min    1.000000e+00     -52.000000      -1340.648410       -74.015515   \n",
       "25%    1.382534e+07       6.000000        -73.992065        40.734796   \n",
       "50%    2.774524e+07       8.500000        -73.981823        40.752592   \n",
       "75%    4.155535e+07      12.500000        -73.967154        40.767158   \n",
       "max    5.542357e+07     499.000000         57.418457      1644.421482   \n",
       "\n",
       "       dropoff_longitude  dropoff_latitude  passenger_count  \n",
       "count      199999.000000     199999.000000    199999.000000  \n",
       "mean          -72.525292         39.923890         1.684543  \n",
       "std            13.117408          6.794829         1.385995  \n",
       "min         -3356.666300       -881.985513         0.000000  \n",
       "25%           -73.991407         40.733823         1.000000  \n",
       "50%           -73.980093         40.753042         1.000000  \n",
       "75%           -73.963658         40.768001         2.000000  \n",
       "max          1153.572603        872.697628       208.000000  "
      ]
     },
     "execution_count": 4,
     "metadata": {},
     "output_type": "execute_result"
    }
   ],
   "source": [
    "uber.describe()"
   ]
  },
  {
   "cell_type": "markdown",
   "metadata": {},
   "source": [
    "Let's get rid of all the values that don't make sense.<br/>\n",
    "According to the Uber website, the highest number of passengers allowed is 6. We will drop all passenger_count with less than 1 passenger or with more than 6. <br/>\n",
    "Latitude values range from -90° to 90° and longitude ranges from -180° to 180°. We will get rid of all values outside of these ranges because they don't exist and can lead to errors when calculating the distance between the pickup and dropoff points.<br/>\n",
    "We will also exclude negative fares.<br/>\n",
    "https://www.uber.com/us/en/ride/uberxl/ <br/>\n",
    "https://docs.mapbox.com/help/glossary/lat-lon/#:~:text=Latitude%20and%20longitude%20are%20a,180%20to%20180%20for%20longitude."
   ]
  },
  {
   "cell_type": "code",
   "execution_count": 5,
   "metadata": {},
   "outputs": [
    {
     "data": {
      "text/html": [
       "<div>\n",
       "<style scoped>\n",
       "    .dataframe tbody tr th:only-of-type {\n",
       "        vertical-align: middle;\n",
       "    }\n",
       "\n",
       "    .dataframe tbody tr th {\n",
       "        vertical-align: top;\n",
       "    }\n",
       "\n",
       "    .dataframe thead th {\n",
       "        text-align: right;\n",
       "    }\n",
       "</style>\n",
       "<table border=\"1\" class=\"dataframe\">\n",
       "  <thead>\n",
       "    <tr style=\"text-align: right;\">\n",
       "      <th></th>\n",
       "      <th>Unnamed: 0</th>\n",
       "      <th>fare_amount</th>\n",
       "      <th>pickup_longitude</th>\n",
       "      <th>pickup_latitude</th>\n",
       "      <th>dropoff_longitude</th>\n",
       "      <th>dropoff_latitude</th>\n",
       "      <th>passenger_count</th>\n",
       "    </tr>\n",
       "  </thead>\n",
       "  <tbody>\n",
       "    <tr>\n",
       "      <th>count</th>\n",
       "      <td>1.992560e+05</td>\n",
       "      <td>199256.000000</td>\n",
       "      <td>199256.000000</td>\n",
       "      <td>199256.000000</td>\n",
       "      <td>199256.000000</td>\n",
       "      <td>199256.000000</td>\n",
       "      <td>199256.000000</td>\n",
       "    </tr>\n",
       "    <tr>\n",
       "      <th>mean</th>\n",
       "      <td>2.771597e+07</td>\n",
       "      <td>11.369376</td>\n",
       "      <td>-72.504173</td>\n",
       "      <td>39.919172</td>\n",
       "      <td>-72.514408</td>\n",
       "      <td>39.923484</td>\n",
       "      <td>1.689440</td>\n",
       "    </tr>\n",
       "    <tr>\n",
       "      <th>std</th>\n",
       "      <td>1.601417e+07</td>\n",
       "      <td>9.905986</td>\n",
       "      <td>10.442243</td>\n",
       "      <td>6.127757</td>\n",
       "      <td>10.403044</td>\n",
       "      <td>6.114307</td>\n",
       "      <td>1.305386</td>\n",
       "    </tr>\n",
       "    <tr>\n",
       "      <th>min</th>\n",
       "      <td>1.000000e+00</td>\n",
       "      <td>0.010000</td>\n",
       "      <td>-93.824668</td>\n",
       "      <td>-74.015515</td>\n",
       "      <td>-75.458979</td>\n",
       "      <td>-74.015750</td>\n",
       "      <td>1.000000</td>\n",
       "    </tr>\n",
       "    <tr>\n",
       "      <th>25%</th>\n",
       "      <td>1.382668e+07</td>\n",
       "      <td>6.000000</td>\n",
       "      <td>-73.992063</td>\n",
       "      <td>40.734794</td>\n",
       "      <td>-73.991409</td>\n",
       "      <td>40.733828</td>\n",
       "      <td>1.000000</td>\n",
       "    </tr>\n",
       "    <tr>\n",
       "      <th>50%</th>\n",
       "      <td>2.775602e+07</td>\n",
       "      <td>8.500000</td>\n",
       "      <td>-73.981825</td>\n",
       "      <td>40.752582</td>\n",
       "      <td>-73.980094</td>\n",
       "      <td>40.753041</td>\n",
       "      <td>1.000000</td>\n",
       "    </tr>\n",
       "    <tr>\n",
       "      <th>75%</th>\n",
       "      <td>4.156047e+07</td>\n",
       "      <td>12.500000</td>\n",
       "      <td>-73.967162</td>\n",
       "      <td>40.767155</td>\n",
       "      <td>-73.963663</td>\n",
       "      <td>40.767995</td>\n",
       "      <td>2.000000</td>\n",
       "    </tr>\n",
       "    <tr>\n",
       "      <th>max</th>\n",
       "      <td>5.542357e+07</td>\n",
       "      <td>499.000000</td>\n",
       "      <td>40.808425</td>\n",
       "      <td>48.018760</td>\n",
       "      <td>40.831932</td>\n",
       "      <td>45.031598</td>\n",
       "      <td>6.000000</td>\n",
       "    </tr>\n",
       "  </tbody>\n",
       "</table>\n",
       "</div>"
      ],
      "text/plain": [
       "         Unnamed: 0    fare_amount  pickup_longitude  pickup_latitude  \\\n",
       "count  1.992560e+05  199256.000000     199256.000000    199256.000000   \n",
       "mean   2.771597e+07      11.369376        -72.504173        39.919172   \n",
       "std    1.601417e+07       9.905986         10.442243         6.127757   \n",
       "min    1.000000e+00       0.010000        -93.824668       -74.015515   \n",
       "25%    1.382668e+07       6.000000        -73.992063        40.734794   \n",
       "50%    2.775602e+07       8.500000        -73.981825        40.752582   \n",
       "75%    4.156047e+07      12.500000        -73.967162        40.767155   \n",
       "max    5.542357e+07     499.000000         40.808425        48.018760   \n",
       "\n",
       "       dropoff_longitude  dropoff_latitude  passenger_count  \n",
       "count      199256.000000     199256.000000    199256.000000  \n",
       "mean          -72.514408         39.923484         1.689440  \n",
       "std            10.403044          6.114307         1.305386  \n",
       "min           -75.458979        -74.015750         1.000000  \n",
       "25%           -73.991409         40.733828         1.000000  \n",
       "50%           -73.980094         40.753041         1.000000  \n",
       "75%           -73.963663         40.767995         2.000000  \n",
       "max            40.831932         45.031598         6.000000  "
      ]
     },
     "execution_count": 5,
     "metadata": {},
     "output_type": "execute_result"
    }
   ],
   "source": [
    "uber = uber[uber['passenger_count'] < 7]\n",
    "uber = uber[uber['passenger_count'] > 0]\n",
    "uber = uber[uber['fare_amount'] > 0]\n",
    "uber = uber[uber['pickup_latitude'] >= -90]\n",
    "uber = uber[uber['pickup_latitude'] <= 90]\n",
    "uber = uber[uber['pickup_longitude'] >= -180]\n",
    "uber = uber[uber['pickup_longitude'] <= 180]\n",
    "uber = uber[uber['dropoff_latitude'] >= -90]\n",
    "uber = uber[uber['dropoff_latitude'] <= 90]\n",
    "uber = uber[uber['dropoff_longitude'] >= -180]\n",
    "uber = uber[uber['dropoff_longitude'] <= 180]\n",
    "uber.describe()"
   ]
  },
  {
   "cell_type": "markdown",
   "metadata": {},
   "source": [
    "Now all the values seem to make sense and fall within their respective correct ranges so we can start transforming the data."
   ]
  },
  {
   "cell_type": "markdown",
   "metadata": {},
   "source": [
    "### Transforming the Data"
   ]
  },
  {
   "cell_type": "markdown",
   "metadata": {},
   "source": [
    "Latitudes and Longitudes don't help us out too much in predicting the fare cost by themselves. We can use that information to get the distance, in kilometers, between the pickup and dropoff points. <br/>To calculate, this distance we will use the Haversine formula, which returns the distance between two points on Earth. The code for the dist() function is from GeeksForGeeks.<br/>\n",
    "https://www.geeksforgeeks.org/program-distance-two-points-earth/ "
   ]
  },
  {
   "cell_type": "code",
   "execution_count": 6,
   "metadata": {},
   "outputs": [],
   "source": [
    "# Haversine Formula\n",
    "from math import radians, cos, sin, asin, sqrt\n",
    "def dist(pu_lat, do_lat, pu_lon, do_lon):\n",
    "     \n",
    "    # The math module contains a function named\n",
    "    # radians which converts from degrees to radians.\n",
    "    pu_lon = radians(pu_lon)\n",
    "    do_lon = radians(do_lon)\n",
    "    pu_lat = radians(pu_lat)\n",
    "    do_lat = radians(do_lat)\n",
    "      \n",
    "    # Haversine formula\n",
    "    dlon = do_lon - pu_lon\n",
    "    dlat = do_lat - pu_lat\n",
    "    a = sin(dlat / 2)**2 + cos(pu_lat) * cos(do_lat) * sin(dlon / 2)**2\n",
    " \n",
    "    c = 2 * asin(sqrt(a))\n",
    "    \n",
    "    # Radius of earth in kilometers. Use 3956 for miles\n",
    "    r = 6371\n",
    "      \n",
    "    # calculate the result\n",
    "    return(c * r)"
   ]
  },
  {
   "cell_type": "code",
   "execution_count": 7,
   "metadata": {},
   "outputs": [],
   "source": [
    "# Code to add a column with the distances\n",
    "distances = []\n",
    "\n",
    "for i in range(len(uber)):\n",
    "  distances.append(dist(uber.iloc[i][5], uber.iloc[i][7], uber.iloc[i][4], uber.iloc[i][6]))"
   ]
  },
  {
   "cell_type": "code",
   "execution_count": 8,
   "metadata": {},
   "outputs": [],
   "source": [
    "uber['distance'] = distances\n",
    "\n",
    "# We can now drop the latitudes and longitudes\n",
    "uber = uber.drop(columns=['pickup_longitude', 'pickup_latitude', 'dropoff_longitude',\n",
    "                         'dropoff_latitude'])"
   ]
  },
  {
   "cell_type": "markdown",
   "metadata": {},
   "source": [
    "After dealing with the latitudes, we will deal with the pickup date and time. Based on the `pickup_datetime` column, we can find the day of the week and the time the user was picked up. We can use that to determine the busiest times and days, which will be helpful for predicting the fare.<br/>\n",
    "Day of the Week Key:\n",
    "* Monday:       0\n",
    "* Tuesday:      1\n",
    "* Wednesday:    2\n",
    "* Thursday:     3\n",
    "* Friday:       4\n",
    "* Saturday:     5\n",
    "* Sunday:       6"
   ]
  },
  {
   "cell_type": "code",
   "execution_count": 9,
   "metadata": {},
   "outputs": [
    {
     "data": {
      "text/html": [
       "<div>\n",
       "<style scoped>\n",
       "    .dataframe tbody tr th:only-of-type {\n",
       "        vertical-align: middle;\n",
       "    }\n",
       "\n",
       "    .dataframe tbody tr th {\n",
       "        vertical-align: top;\n",
       "    }\n",
       "\n",
       "    .dataframe thead th {\n",
       "        text-align: right;\n",
       "    }\n",
       "</style>\n",
       "<table border=\"1\" class=\"dataframe\">\n",
       "  <thead>\n",
       "    <tr style=\"text-align: right;\">\n",
       "      <th></th>\n",
       "      <th>Unnamed: 0</th>\n",
       "      <th>key</th>\n",
       "      <th>fare_amount</th>\n",
       "      <th>pickup_datetime</th>\n",
       "      <th>passenger_count</th>\n",
       "      <th>distance</th>\n",
       "      <th>hour</th>\n",
       "      <th>day</th>\n",
       "    </tr>\n",
       "  </thead>\n",
       "  <tbody>\n",
       "    <tr>\n",
       "      <th>0</th>\n",
       "      <td>24238194</td>\n",
       "      <td>2015-05-07 19:52:06.0000003</td>\n",
       "      <td>7.5</td>\n",
       "      <td>2015-05-07 19:52:06+00:00</td>\n",
       "      <td>1</td>\n",
       "      <td>1.683323</td>\n",
       "      <td>19</td>\n",
       "      <td>3</td>\n",
       "    </tr>\n",
       "    <tr>\n",
       "      <th>1</th>\n",
       "      <td>27835199</td>\n",
       "      <td>2009-07-17 20:04:56.0000002</td>\n",
       "      <td>7.7</td>\n",
       "      <td>2009-07-17 20:04:56+00:00</td>\n",
       "      <td>1</td>\n",
       "      <td>2.457590</td>\n",
       "      <td>20</td>\n",
       "      <td>4</td>\n",
       "    </tr>\n",
       "    <tr>\n",
       "      <th>2</th>\n",
       "      <td>44984355</td>\n",
       "      <td>2009-08-24 21:45:00.00000061</td>\n",
       "      <td>12.9</td>\n",
       "      <td>2009-08-24 21:45:00+00:00</td>\n",
       "      <td>1</td>\n",
       "      <td>5.036377</td>\n",
       "      <td>21</td>\n",
       "      <td>0</td>\n",
       "    </tr>\n",
       "    <tr>\n",
       "      <th>3</th>\n",
       "      <td>25894730</td>\n",
       "      <td>2009-06-26 08:22:21.0000001</td>\n",
       "      <td>5.3</td>\n",
       "      <td>2009-06-26 08:22:21+00:00</td>\n",
       "      <td>3</td>\n",
       "      <td>1.661683</td>\n",
       "      <td>8</td>\n",
       "      <td>4</td>\n",
       "    </tr>\n",
       "    <tr>\n",
       "      <th>4</th>\n",
       "      <td>17610152</td>\n",
       "      <td>2014-08-28 17:47:00.000000188</td>\n",
       "      <td>16.0</td>\n",
       "      <td>2014-08-28 17:47:00+00:00</td>\n",
       "      <td>5</td>\n",
       "      <td>4.475450</td>\n",
       "      <td>17</td>\n",
       "      <td>3</td>\n",
       "    </tr>\n",
       "    <tr>\n",
       "      <th>...</th>\n",
       "      <td>...</td>\n",
       "      <td>...</td>\n",
       "      <td>...</td>\n",
       "      <td>...</td>\n",
       "      <td>...</td>\n",
       "      <td>...</td>\n",
       "      <td>...</td>\n",
       "      <td>...</td>\n",
       "    </tr>\n",
       "    <tr>\n",
       "      <th>199995</th>\n",
       "      <td>42598914</td>\n",
       "      <td>2012-10-28 10:49:00.00000053</td>\n",
       "      <td>3.0</td>\n",
       "      <td>2012-10-28 10:49:00+00:00</td>\n",
       "      <td>1</td>\n",
       "      <td>0.112210</td>\n",
       "      <td>10</td>\n",
       "      <td>6</td>\n",
       "    </tr>\n",
       "    <tr>\n",
       "      <th>199996</th>\n",
       "      <td>16382965</td>\n",
       "      <td>2014-03-14 01:09:00.0000008</td>\n",
       "      <td>7.5</td>\n",
       "      <td>2014-03-14 01:09:00+00:00</td>\n",
       "      <td>1</td>\n",
       "      <td>1.875050</td>\n",
       "      <td>1</td>\n",
       "      <td>4</td>\n",
       "    </tr>\n",
       "    <tr>\n",
       "      <th>199997</th>\n",
       "      <td>27804658</td>\n",
       "      <td>2009-06-29 00:42:00.00000078</td>\n",
       "      <td>30.9</td>\n",
       "      <td>2009-06-29 00:42:00+00:00</td>\n",
       "      <td>2</td>\n",
       "      <td>12.850319</td>\n",
       "      <td>0</td>\n",
       "      <td>0</td>\n",
       "    </tr>\n",
       "    <tr>\n",
       "      <th>199998</th>\n",
       "      <td>20259894</td>\n",
       "      <td>2015-05-20 14:56:25.0000004</td>\n",
       "      <td>14.5</td>\n",
       "      <td>2015-05-20 14:56:25+00:00</td>\n",
       "      <td>1</td>\n",
       "      <td>3.539715</td>\n",
       "      <td>14</td>\n",
       "      <td>2</td>\n",
       "    </tr>\n",
       "    <tr>\n",
       "      <th>199999</th>\n",
       "      <td>11951496</td>\n",
       "      <td>2010-05-15 04:08:00.00000076</td>\n",
       "      <td>14.1</td>\n",
       "      <td>2010-05-15 04:08:00+00:00</td>\n",
       "      <td>1</td>\n",
       "      <td>5.417783</td>\n",
       "      <td>4</td>\n",
       "      <td>5</td>\n",
       "    </tr>\n",
       "  </tbody>\n",
       "</table>\n",
       "<p>199256 rows × 8 columns</p>\n",
       "</div>"
      ],
      "text/plain": [
       "        Unnamed: 0                            key  fare_amount  \\\n",
       "0         24238194    2015-05-07 19:52:06.0000003          7.5   \n",
       "1         27835199    2009-07-17 20:04:56.0000002          7.7   \n",
       "2         44984355   2009-08-24 21:45:00.00000061         12.9   \n",
       "3         25894730    2009-06-26 08:22:21.0000001          5.3   \n",
       "4         17610152  2014-08-28 17:47:00.000000188         16.0   \n",
       "...            ...                            ...          ...   \n",
       "199995    42598914   2012-10-28 10:49:00.00000053          3.0   \n",
       "199996    16382965    2014-03-14 01:09:00.0000008          7.5   \n",
       "199997    27804658   2009-06-29 00:42:00.00000078         30.9   \n",
       "199998    20259894    2015-05-20 14:56:25.0000004         14.5   \n",
       "199999    11951496   2010-05-15 04:08:00.00000076         14.1   \n",
       "\n",
       "                 pickup_datetime  passenger_count   distance  hour  day  \n",
       "0      2015-05-07 19:52:06+00:00                1   1.683323    19    3  \n",
       "1      2009-07-17 20:04:56+00:00                1   2.457590    20    4  \n",
       "2      2009-08-24 21:45:00+00:00                1   5.036377    21    0  \n",
       "3      2009-06-26 08:22:21+00:00                3   1.661683     8    4  \n",
       "4      2014-08-28 17:47:00+00:00                5   4.475450    17    3  \n",
       "...                          ...              ...        ...   ...  ...  \n",
       "199995 2012-10-28 10:49:00+00:00                1   0.112210    10    6  \n",
       "199996 2014-03-14 01:09:00+00:00                1   1.875050     1    4  \n",
       "199997 2009-06-29 00:42:00+00:00                2  12.850319     0    0  \n",
       "199998 2015-05-20 14:56:25+00:00                1   3.539715    14    2  \n",
       "199999 2010-05-15 04:08:00+00:00                1   5.417783     4    5  \n",
       "\n",
       "[199256 rows x 8 columns]"
      ]
     },
     "execution_count": 9,
     "metadata": {},
     "output_type": "execute_result"
    }
   ],
   "source": [
    "from datetime import datetime as dt\n",
    "# Cast string to datetime format\n",
    "uber['pickup_datetime'] = pd.to_datetime(uber['pickup_datetime'])\n",
    "# Get hour from pickup_datetime\n",
    "uber['hour'] = uber.pickup_datetime.dt.hour\n",
    "# Get day of the week from pickup_datetime\n",
    "uber['day'] = uber['pickup_datetime'].dt.dayofweek\n",
    "uber"
   ]
  },
  {
   "cell_type": "markdown",
   "metadata": {},
   "source": [
    "We can alter the data a little bit more to help in predicting the fare. We can One-Hot Encode the day of the week between weekdays and weekends. 1 means that it is a weekday, while 0 means weekend."
   ]
  },
  {
   "cell_type": "code",
   "execution_count": 10,
   "metadata": {},
   "outputs": [],
   "source": [
    "uber['weekday'] = uber['day'] <= 4\n",
    "uber['weekday'] = uber['weekday'].astype(int)\n",
    "# uber['weekend'] = uber['day'] > 4\n",
    "# uber['weekend'] = uber['weekend'].astype(int)"
   ]
  },
  {
   "cell_type": "markdown",
   "metadata": {},
   "source": [
    "We can use Ordinal Encoding to put the hours column into buckets, so we can see which sections of the day have the highest fares. <br/>\n",
    "Key:\n",
    "* 1: Daybreak, 0 AM - 5 AM\n",
    "* 2: Morning, 6 AM - 11 AM\n",
    "* 3: Afternoon, 12 PM - 5 PM\n",
    "* 4: Night, 6 PM - 11 PM"
   ]
  },
  {
   "cell_type": "code",
   "execution_count": 11,
   "metadata": {},
   "outputs": [],
   "source": [
    "bins = [-1, 5, 11, 17, 24]\n",
    "labels =[1,2,3, 4]\n",
    "uber['day_section'] = pd.cut(uber['hour'], bins,labels=labels)\n",
    "uber['day_section'] = uber['day_section'].astype(\"int\")"
   ]
  },
  {
   "cell_type": "code",
   "execution_count": 12,
   "metadata": {},
   "outputs": [],
   "source": [
    "# We can now drop the other columns we will not be using anymore\n",
    "uber = uber.drop(columns=['Unnamed: 0', 'key', 'pickup_datetime',\n",
    "                          'hour', 'day'])"
   ]
  },
  {
   "cell_type": "code",
   "execution_count": 13,
   "metadata": {},
   "outputs": [
    {
     "data": {
      "text/html": [
       "<div>\n",
       "<style scoped>\n",
       "    .dataframe tbody tr th:only-of-type {\n",
       "        vertical-align: middle;\n",
       "    }\n",
       "\n",
       "    .dataframe tbody tr th {\n",
       "        vertical-align: top;\n",
       "    }\n",
       "\n",
       "    .dataframe thead th {\n",
       "        text-align: right;\n",
       "    }\n",
       "</style>\n",
       "<table border=\"1\" class=\"dataframe\">\n",
       "  <thead>\n",
       "    <tr style=\"text-align: right;\">\n",
       "      <th></th>\n",
       "      <th>fare_amount</th>\n",
       "      <th>passenger_count</th>\n",
       "      <th>distance</th>\n",
       "      <th>weekday</th>\n",
       "      <th>day_section</th>\n",
       "    </tr>\n",
       "  </thead>\n",
       "  <tbody>\n",
       "    <tr>\n",
       "      <th>0</th>\n",
       "      <td>7.5</td>\n",
       "      <td>1</td>\n",
       "      <td>1.683323</td>\n",
       "      <td>1</td>\n",
       "      <td>4</td>\n",
       "    </tr>\n",
       "    <tr>\n",
       "      <th>1</th>\n",
       "      <td>7.7</td>\n",
       "      <td>1</td>\n",
       "      <td>2.457590</td>\n",
       "      <td>1</td>\n",
       "      <td>4</td>\n",
       "    </tr>\n",
       "    <tr>\n",
       "      <th>2</th>\n",
       "      <td>12.9</td>\n",
       "      <td>1</td>\n",
       "      <td>5.036377</td>\n",
       "      <td>1</td>\n",
       "      <td>4</td>\n",
       "    </tr>\n",
       "    <tr>\n",
       "      <th>3</th>\n",
       "      <td>5.3</td>\n",
       "      <td>3</td>\n",
       "      <td>1.661683</td>\n",
       "      <td>1</td>\n",
       "      <td>2</td>\n",
       "    </tr>\n",
       "    <tr>\n",
       "      <th>4</th>\n",
       "      <td>16.0</td>\n",
       "      <td>5</td>\n",
       "      <td>4.475450</td>\n",
       "      <td>1</td>\n",
       "      <td>3</td>\n",
       "    </tr>\n",
       "  </tbody>\n",
       "</table>\n",
       "</div>"
      ],
      "text/plain": [
       "   fare_amount  passenger_count  distance  weekday  day_section\n",
       "0          7.5                1  1.683323        1            4\n",
       "1          7.7                1  2.457590        1            4\n",
       "2         12.9                1  5.036377        1            4\n",
       "3          5.3                3  1.661683        1            2\n",
       "4         16.0                5  4.475450        1            3"
      ]
     },
     "execution_count": 13,
     "metadata": {},
     "output_type": "execute_result"
    }
   ],
   "source": [
    "uber.head()"
   ]
  },
  {
   "cell_type": "markdown",
   "metadata": {},
   "source": [
    "### Normalizing the Data"
   ]
  },
  {
   "cell_type": "markdown",
   "metadata": {},
   "source": [
    "Let's scale all of the numeric attributes to improve the accuracy of the models. Here, we standardize the values so they range between -1 and 1."
   ]
  },
  {
   "cell_type": "code",
   "execution_count": 14,
   "metadata": {},
   "outputs": [],
   "source": [
    "# Scale columns\n",
    "uber_scaled = pd.DataFrame()\n",
    "uber_scaled['fare_amount'] = uber['fare_amount']\n",
    "uber_scaled['distance'] = uber['distance']\n",
    "scaled_features = StandardScaler().fit_transform(uber_scaled.values)\n",
    "uber_scaled = pd.DataFrame(scaled_features, index=uber_scaled.index, columns=uber_scaled.columns)\n",
    "\n",
    "# Transform entire dataset\n",
    "uber['fare_amount'] = uber_scaled['fare_amount']\n",
    "uber['distance'] = uber_scaled['distance']"
   ]
  },
  {
   "cell_type": "code",
   "execution_count": 15,
   "metadata": {},
   "outputs": [
    {
     "data": {
      "text/html": [
       "<div>\n",
       "<style scoped>\n",
       "    .dataframe tbody tr th:only-of-type {\n",
       "        vertical-align: middle;\n",
       "    }\n",
       "\n",
       "    .dataframe tbody tr th {\n",
       "        vertical-align: top;\n",
       "    }\n",
       "\n",
       "    .dataframe thead th {\n",
       "        text-align: right;\n",
       "    }\n",
       "</style>\n",
       "<table border=\"1\" class=\"dataframe\">\n",
       "  <thead>\n",
       "    <tr style=\"text-align: right;\">\n",
       "      <th></th>\n",
       "      <th>fare_amount</th>\n",
       "      <th>passenger_count</th>\n",
       "      <th>distance</th>\n",
       "      <th>weekday</th>\n",
       "      <th>day_section</th>\n",
       "    </tr>\n",
       "  </thead>\n",
       "  <tbody>\n",
       "    <tr>\n",
       "      <th>0</th>\n",
       "      <td>-0.390611</td>\n",
       "      <td>1</td>\n",
       "      <td>-0.049456</td>\n",
       "      <td>1</td>\n",
       "      <td>4</td>\n",
       "    </tr>\n",
       "    <tr>\n",
       "      <th>1</th>\n",
       "      <td>-0.370421</td>\n",
       "      <td>1</td>\n",
       "      <td>-0.047402</td>\n",
       "      <td>1</td>\n",
       "      <td>4</td>\n",
       "    </tr>\n",
       "    <tr>\n",
       "      <th>2</th>\n",
       "      <td>0.154515</td>\n",
       "      <td>1</td>\n",
       "      <td>-0.040559</td>\n",
       "      <td>1</td>\n",
       "      <td>4</td>\n",
       "    </tr>\n",
       "    <tr>\n",
       "      <th>3</th>\n",
       "      <td>-0.612699</td>\n",
       "      <td>3</td>\n",
       "      <td>-0.049514</td>\n",
       "      <td>1</td>\n",
       "      <td>2</td>\n",
       "    </tr>\n",
       "    <tr>\n",
       "      <th>4</th>\n",
       "      <td>0.467458</td>\n",
       "      <td>5</td>\n",
       "      <td>-0.042047</td>\n",
       "      <td>1</td>\n",
       "      <td>3</td>\n",
       "    </tr>\n",
       "  </tbody>\n",
       "</table>\n",
       "</div>"
      ],
      "text/plain": [
       "   fare_amount  passenger_count  distance  weekday  day_section\n",
       "0    -0.390611                1 -0.049456        1            4\n",
       "1    -0.370421                1 -0.047402        1            4\n",
       "2     0.154515                1 -0.040559        1            4\n",
       "3    -0.612699                3 -0.049514        1            2\n",
       "4     0.467458                5 -0.042047        1            3"
      ]
     },
     "execution_count": 15,
     "metadata": {},
     "output_type": "execute_result"
    }
   ],
   "source": [
    "uber.head()"
   ]
  },
  {
   "cell_type": "markdown",
   "metadata": {},
   "source": [
    "### Plots for Visual Analysis"
   ]
  },
  {
   "cell_type": "markdown",
   "metadata": {},
   "source": [
    "It is always helpful to look at some plots and heatmaps to find correlations between the target and predicting variables."
   ]
  },
  {
   "cell_type": "code",
   "execution_count": 16,
   "metadata": {},
   "outputs": [
    {
     "data": {
      "text/plain": [
       "<seaborn.axisgrid.PairGrid at 0x2b78e269fc0>"
      ]
     },
     "execution_count": 16,
     "metadata": {},
     "output_type": "execute_result"
    },
    {
     "data": {
      "image/png": "[encoded data removed]",
      "text/plain": [
       "<Figure size 900x900 with 30 Axes>"
      ]
     },
     "metadata": {
      "needs_background": "light"
     },
     "output_type": "display_data"
    }
   ],
   "source": [
    "to_plot=uber[:1500]\n",
    "sns.pairplot(to_plot)"
   ]
  },
  {
   "cell_type": "code",
   "execution_count": 17,
   "metadata": {},
   "outputs": [
    {
     "data": {
      "text/plain": [
       "<AxesSubplot:>"
      ]
     },
     "execution_count": 17,
     "metadata": {},
     "output_type": "execute_result"
    },
    {
     "data": {
      "image/png": "[encoded data removed]",
      "text/plain": [
       "<Figure size 432x288 with 2 Axes>"
      ]
     },
     "metadata": {
      "needs_background": "light"
     },
     "output_type": "display_data"
    }
   ],
   "source": [
    "sns.heatmap(to_plot.corr(),annot=True)"
   ]
  },
  {
   "cell_type": "markdown",
   "metadata": {},
   "source": [
    "## Training and Testing Datasets"
   ]
  },
  {
   "cell_type": "markdown",
   "metadata": {},
   "source": [
    "Now that the data has been cleaned and normalized, we can start separating our dataset into training and testing subsets.<br/>\n",
    "We are using Stratified data instead of random data to obtain a sample population that best represents the actual data, where each subgroup is properly represented.<br/>\n",
    "Since we will be using Stratified K-Fold Cross Validation to check the accuracy of our models, we will "
   ]
  },
  {
   "cell_type": "code",
   "execution_count": 18,
   "metadata": {},
   "outputs": [],
   "source": [
    "# Predictor Variables\n",
    "x = uber.drop('fare_amount', axis=1)\n",
    "# Target Variable\n",
    "y = uber['fare_amount']"
   ]
  },
  {
   "cell_type": "code",
   "execution_count": 19,
   "metadata": {},
   "outputs": [],
   "source": [
    "# Stratified Sampling\n",
    "train_set, test_set = train_test_split(uber, test_size=0.2, random_state=42, stratify=uber['weekday'])\n",
    "\n",
    "# Y is the target\n",
    "X_test = test_set.drop('fare_amount', axis=1)\n",
    "Y_test = test_set['fare_amount']\n",
    "X_train = train_set.drop('fare_amount', axis=1)\n",
    "Y_train = train_set['fare_amount']"
   ]
  },
  {
   "cell_type": "markdown",
   "metadata": {},
   "source": [
    "## Models"
   ]
  },
  {
   "cell_type": "markdown",
   "metadata": {},
   "source": [
    "We will create a few different models and test their accuracies later on.<br/>\n",
    "Since we are trying to predict `fare_amount`, we must use Regression Algorithms since it is a continuous variable."
   ]
  },
  {
   "cell_type": "markdown",
   "metadata": {},
   "source": [
    "### Linear Regression"
   ]
  },
  {
   "cell_type": "markdown",
   "metadata": {},
   "source": [
    "Linear Regression is a method that attempts to model relationships between the target variable and the set of the predictor variables."
   ]
  },
  {
   "cell_type": "code",
   "execution_count": 20,
   "metadata": {},
   "outputs": [],
   "source": [
    "lreg = linear_model.LinearRegression()"
   ]
  },
  {
   "cell_type": "code",
   "execution_count": 21,
   "metadata": {},
   "outputs": [
    {
     "data": {
      "text/plain": [
       "LinearRegression()"
      ]
     },
     "execution_count": 21,
     "metadata": {},
     "output_type": "execute_result"
    }
   ],
   "source": [
    "lreg.fit(X_train, Y_train)"
   ]
  },
  {
   "cell_type": "markdown",
   "metadata": {},
   "source": [
    "#### Stratified K Fold Cross Validation"
   ]
  },
  {
   "cell_type": "markdown",
   "metadata": {},
   "source": [
    "We will use K Fold Cross Validation to test how accurate this model is. We will use K = 10 because that is the recommended value."
   ]
  },
  {
   "cell_type": "code",
   "execution_count": 22,
   "metadata": {},
   "outputs": [],
   "source": [
    "scores = sklearn.model_selection.cross_val_score(lreg, X_test, Y_test, cv=10)"
   ]
  },
  {
   "cell_type": "code",
   "execution_count": 23,
   "metadata": {},
   "outputs": [
    {
     "name": "stdout",
     "output_type": "stream",
     "text": [
      "Mean Score:  0.0015307764504378985\n"
     ]
    }
   ],
   "source": [
    "print('Mean Score: ', scores.mean())"
   ]
  },
  {
   "cell_type": "markdown",
   "metadata": {},
   "source": [
    "We can see here that the scores for the Linear Regression model are not great."
   ]
  },
  {
   "cell_type": "markdown",
   "metadata": {},
   "source": [
    "### Decision Tree Regression"
   ]
  },
  {
   "cell_type": "markdown",
   "metadata": {},
   "source": [
    "Decision Tree Regression is a supervised learning algorithm that works for both categorical and continuous target variables.<br/>\n",
    "This type of regression uses a flowchart-like tree structure of decisions and all of their possible results, including outcomes, input costs, and utility."
   ]
  },
  {
   "cell_type": "markdown",
   "metadata": {},
   "source": [
    "#### Grid Search CV"
   ]
  },
  {
   "cell_type": "markdown",
   "metadata": {},
   "source": [
    "In order to improve the accuracy of our models, we will be executing hyperparameter tuning, using a Grid Search."
   ]
  },
  {
   "cell_type": "code",
   "execution_count": 24,
   "metadata": {},
   "outputs": [
    {
     "name": "stdout",
     "output_type": "stream",
     "text": [
      "Accuracy:  0.5220970955804742\n",
      "Best Params:  {'criterion': 'friedman_mse', 'splitter': 'best'}\n"
     ]
    }
   ],
   "source": [
    "from sklearn.tree import DecisionTreeRegressor \n",
    "\n",
    "params={'criterion': ['squared_error', 'friedman_mse'], \n",
    "        'splitter': ['best', 'random']        \n",
    "        }\n",
    "\n",
    "gs=GridSearchCV(estimator=DecisionTreeRegressor(random_state = 0), param_grid=params, cv=10)\n",
    "# now fit the dataset to the GridSearchCV object. \n",
    "gs = gs.fit(x, y)\n",
    "\n",
    "best_params=gs.best_params_\n",
    "accuracy=gs.best_score_\n",
    "\n",
    "print('Accuracy: ', accuracy)\n",
    "print('Best Params: ', best_params)"
   ]
  },
  {
   "cell_type": "markdown",
   "metadata": {},
   "source": [
    "Now that we have the best hyperparameters, let's define our Decision Tree Regressor model."
   ]
  },
  {
   "cell_type": "code",
   "execution_count": 25,
   "metadata": {},
   "outputs": [],
   "source": [
    "tree_regressor = DecisionTreeRegressor(random_state = 0, criterion='friedman_mse', splitter='best')"
   ]
  },
  {
   "cell_type": "code",
   "execution_count": 26,
   "metadata": {},
   "outputs": [
    {
     "data": {
      "text/plain": [
       "DecisionTreeRegressor(criterion='friedman_mse', random_state=0)"
      ]
     },
     "execution_count": 26,
     "metadata": {},
     "output_type": "execute_result"
    }
   ],
   "source": [
    "tree_regressor.fit(X_train, Y_train)"
   ]
  },
  {
   "cell_type": "markdown",
   "metadata": {},
   "source": [
    "#### K Fold Cross Validation"
   ]
  },
  {
   "cell_type": "markdown",
   "metadata": {},
   "source": [
    "We will be using K Fold Cross Validation again to evaluate our system on the test data."
   ]
  },
  {
   "cell_type": "code",
   "execution_count": 27,
   "metadata": {},
   "outputs": [],
   "source": [
    "scores = sklearn.model_selection.cross_val_score(tree_regressor, X_test, Y_test, cv=10)"
   ]
  },
  {
   "cell_type": "code",
   "execution_count": 28,
   "metadata": {},
   "outputs": [
    {
     "name": "stdout",
     "output_type": "stream",
     "text": [
      "Mean Score:  0.5615924350924963\n"
     ]
    }
   ],
   "source": [
    "print('Mean Score: ', scores.mean())"
   ]
  },
  {
   "cell_type": "markdown",
   "metadata": {},
   "source": [
    "We can see that the Decision Tree model is much more suitable to this dataset than the simple Linear Regression model we also built."
   ]
  }
 ],
 "metadata": {
  "interpreter": {
   "hash": "ce41d2c9079f2c783da2c5a9243470309928341d0f7f9360b413f846a0d7760d"
  },
  "kernelspec": {
   "display_name": "Python 3.10.4 64-bit",
   "language": "python",
   "name": "python3"
  },
  "language_info": {
   "codemirror_mode": {
    "name": "ipython",
    "version": 3
   },
   "file_extension": ".py",
   "mimetype": "text/x-python",
   "name": "python",
   "nbconvert_exporter": "python",
   "pygments_lexer": "ipython3",
   "version": "3.10.4"
  },
  "orig_nbformat": 4
 },
 "nbformat": 4,
 "nbformat_minor": 2
}
